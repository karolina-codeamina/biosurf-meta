{
  "nbformat": 4,
  "nbformat_minor": 0,
  "metadata": {
    "colab": {
      "provenance": []
    },
    "kernelspec": {
      "name": "python3",
      "display_name": "Python 3"
    },
    "language_info": {
      "name": "python"
    }
  },
  "cells": [
    {
      "cell_type": "code",
      "execution_count": null,
      "metadata": {
        "id": "NiGaFY-o_S1Y"
      },
      "outputs": [],
      "source": [
        "import matplotlib.pyplot as plt\n",
        "import numpy as np\n",
        "import pandas as pd\n",
        "import json"
      ]
    },
    {
      "cell_type": "code",
      "source": [
        "#change display settings for whole dfs\n",
        "pd.set_option('display.max_rows', None)       # Display all rows\n",
        "pd.set_option('display.max_columns', None)    # Display all columns\n",
        "pd.set_option('display.width', None)          # Disable line wrapping\n",
        "pd.set_option('display.max_colwidth', None)   # Show full column width"
      ],
      "metadata": {
        "id": "w4PuuMrPCPE4"
      },
      "execution_count": null,
      "outputs": []
    },
    {
      "cell_type": "code",
      "source": [
        "#reading json files downloaded from biosurfdb\n",
        "#list of file \"name\" -> df\n",
        "name_list = [\n",
        "    \"organism\",\n",
        "    \"gene\",\n",
        "    \"protein\",\n",
        "    \"pathway\",\n",
        "    \"surfactant\",\n",
        "    \"metagenome\",\n",
        "    \"biosurfactant\",\n",
        "    \"organism_pathway\"\n",
        "]\n",
        "\n",
        "#loading data into df inside a dict for all files\n",
        "df_dict = {}\n",
        "for name in name_list:\n",
        "\n",
        "  # Load json\n",
        "  with open(f'{name}.json') as f:\n",
        "    raw_data = json.load(f)\n",
        "\n",
        "  try:\n",
        "      # normalizing data (without success)\n",
        "      data_normalized = pd.json_normalize(raw_data['success'])\n",
        "  except Exception as e:\n",
        "      print(f\"An error occurred during normalization: {e}\")\n",
        "  #Save to dict with proper name\n",
        "  df_dict[f\"{name}_df\"] = data_normalized\n",
        "\n",
        "  #Show df\n",
        "  display(df_dict[f\"{name}_df\"].head())"
      ],
      "metadata": {
        "id": "X2OYp7OAQbr-"
      },
      "execution_count": null,
      "outputs": []
    },
    {
      "cell_type": "code",
      "source": [
        "#merge dfs into df_combined\n",
        "\n",
        "#biosurfactant+surfactant\n",
        "df_dict[\"biosurfactant_surfactant_df_combined\"] = pd.merge(df_dict[\"biosurfactant_df\"], df_dict[\"surfactant_df\"], on='surfactant_id', how='inner')\n",
        "\n",
        "#organism_pathway+additional columns\n",
        "  #0.change column names to be common\n",
        "  #gene_df:  gene_ncbi -> gene_GI\n",
        "  #pathway_df: name -> pathway\n",
        "  #protein_df: protein_ncbi -> protein_GI\n",
        "  #organism_df: binomial_name -> organism\n",
        "df_dict['gene_df'].rename(columns={'gene_ncbi': 'Gene_GI'}, inplace=True)\n",
        "df_dict['pathway_df'].rename(columns={'name': 'Pathway'}, inplace=True)\n",
        "df_dict['protein_df'].rename(columns={'protein_ncbi': 'Protein_GI'}, inplace=True)\n",
        "df_dict['organism_df'].rename(columns={'binomial_name': 'Organism'}, inplace=True)\n",
        "\n",
        "df_dict[\"organism_pathway_df_combined\"] = pd.merge(df_dict[\"organism_pathway_df\"], df_dict[\"organism_df\"], on='Organism', how='left')\n",
        "df_dict[\"organism_pathway_df_combined\"] = pd.merge(df_dict[\"organism_pathway_df\"], df_dict[\"gene_df\"], on='Gene_GI', how='left')\n",
        "df_dict[\"organism_pathway_df_combined\"] = pd.merge(df_dict[\"organism_pathway_df\"], df_dict[\"pathway_df\"], on='Pathway', how='left')\n",
        "df_dict[\"organism_pathway_df_combined\"] = pd.merge(df_dict[\"organism_pathway_df\"], df_dict[\"protein_df\"], on='Protein_GI', how='left')\n",
        "\n",
        "#metagenome+organism_pathway by reference -> filter\n",
        "df_dict[\"metagenome_df\"].rename(columns={'reference': 'Reference'}, inplace=True)\n",
        "#filter None in Reference in metagenome_df\n",
        "df_dict[\"metagenome_df\"] = df_dict[\"metagenome_df\"][df_dict[\"metagenome_df\"][\"Reference\"].notna()]\n",
        "df_dict[\"metagenome_df\"] = df_dict[\"metagenome_df\"][['environment', 'Reference']]\n",
        "display(df_dict[\"metagenome_df\"])\n",
        "df_dict[\"metagenome_organism_pathway_df_combined\"] = pd.merge(df_dict[\"metagenome_df\"], df_dict[\"organism_pathway_df\"], on='Reference', how='left')\n",
        "\n",
        "#pathway+biosurfactant by reference\n",
        "\n",
        "df_dict[\"pathway_biosurfactant_df_combined\"] = pd.merge(df_dict[\"pathway_df\"], df_dict[\"biosurfactant_df\"], on='reference', how='inner')"
      ],
      "metadata": {
        "collapsed": true,
        "id": "gZJ2f8zjkjVb"
      },
      "execution_count": null,
      "outputs": []
    },
    {
      "cell_type": "code",
      "source": [
        "#Display combined dfs\n",
        "display(df_dict['organism_pathway_df_combined'])\n",
        "display(df_dict['metagenome_organism_pathway_df_combined'])\n",
        "display(df_dict['pathway_biosurfactant_df_combined'])"
      ],
      "metadata": {
        "collapsed": true,
        "id": "UVc8cMu0upFQ"
      },
      "execution_count": null,
      "outputs": []
    },
    {
      "cell_type": "code",
      "source": [
        "#plot 1 (table) - Biosurfactants classification by classes\n",
        "\n",
        "biosurfactant_surfactant_df_combined_cleaned = df_dict['biosurfactant_surfactant_df_combined']\n",
        "map = {\n",
        "    'Polymeric Surfactants': 'Polymeric biosurfactants',\n",
        "    'Polymeric surfactants': 'Polymeric biosurfactants',\n",
        "    'Glycolipid': 'Glycolipids',\n",
        "    'Lipopeptide': 'Lipopeptides',\n",
        "    ' lipopeptide': 'Lipopeptides',\n",
        "    'Biosurfactant': 'Other biosurfactants',\n",
        "    'Biosurfactants': 'Other biosurfactants'\n",
        "}\n",
        "biosurfactant_surfactant_df_combined_cleaned['class_name'] = biosurfactant_surfactant_df_combined_cleaned['class_name'].replace(map)\n",
        "biosurf_by_class = biosurfactant_surfactant_df_combined_cleaned.groupby('class_name')['surfactant_name'].nunique()\n",
        "display(biosurf_by_class)\n",
        "biosurf_by_class_plot = plt.bar(biosurf_by_class.index, biosurf_by_class.values, color='orange')\n",
        "plt.xticks(rotation=90)\n",
        "plt.xlabel(\"Clase de biosurfactante\")\n",
        "plt.ylabel(\"Cantidad de biosurfactantes\")\n",
        "plt.title(\"Cantidad de biosurfactantes por clase\")\n",
        "plt.savefig(\"biosurfactants_by_class.png\", dpi=300, bbox_inches='tight')\n",
        "plt.show(biosurf_by_class_plot)"
      ],
      "metadata": {
        "collapsed": true,
        "id": "f_WD2W-MkwQ_"
      },
      "execution_count": null,
      "outputs": []
    },
    {
      "cell_type": "code",
      "source": [
        "#PLOT 2.1 - Distribution of biosurfactants production ability in bacterial genera (pathways)\n",
        "pathways_in_organism = df_dict['organism_pathway_df_combined'].groupby('Pathway')['Organism'].nunique()\n",
        "display(pathways_in_organism)\n",
        "#normalized version\n",
        "pathways_in_organism = pathways_in_organism[pathways_in_organism.values < 100]\n",
        "\n",
        "pathways_in_organism_plot = plt.bar(pathways_in_organism.index, pathways_in_organism.values, color='orange')\n",
        "plt.xticks(rotation=90, fontsize=6)\n",
        "plt.xlabel(\"Pathway\")\n",
        "plt.ylabel(\"Number of organisms\")\n",
        "plt.title(\"Number of organisms by pathway\")\n",
        "plt.savefig(\"organisms_by_pathway_normalized.png\", dpi=300, bbox_inches='tight')\n",
        "plt.show(pathways_in_organism_plot)"
      ],
      "metadata": {
        "id": "qN_3-KyBKkfH"
      },
      "execution_count": null,
      "outputs": []
    },
    {
      "cell_type": "code",
      "source": [
        "#PLOT 2.2 - Distribution of  biosurfactants production ability in metagenomes (pathways)\n",
        "\n",
        "nr_pathways_in_metagenome = df_dict['organism_pathway_df_combined'].groupby('Pathway')['Reference'].nunique()\n",
        "#normalized version\n",
        "nr_pathways_in_metagenome = nr_pathways_in_metagenome[nr_pathways_in_metagenome.values < 30]\n",
        "\n",
        "display(nr_pathways_in_metagenome)\n",
        "nr_pathways_in_metagenome_plot = plt.bar(nr_pathways_in_metagenome.index, nr_pathways_in_metagenome.values, color='orange')\n",
        "plt.xticks(rotation=90, fontsize=6)\n",
        "plt.xlabel(\"Pathway\")\n",
        "plt.ylabel(\"Number of metagenomes\")\n",
        "plt.title(\"Number of metagenomes by pathway\")\n",
        "plt.savefig(\"metagenomes_by_pathway_normalized.png\", dpi=300, bbox_inches='tight')\n",
        "plt.show(nr_pathways_in_metagenome_plot)\n",
        "\n",
        "#reverse plot\n",
        "\n",
        "nr_pathways_in_metagenome_reverse = df_dict['organism_pathway_df_combined'].groupby('Reference')['Pathway'].nunique()\n",
        "#normalized version\n",
        "nr_pathways_in_metagenome_reverse = nr_pathways_in_metagenome_reverse[nr_pathways_in_metagenome_reverse.values > 3]\n",
        "nr_pathways_in_metagenome_reverse = nr_pathways_in_metagenome_reverse[nr_pathways_in_metagenome_reverse.values < 10]\n",
        "\n",
        "display(nr_pathways_in_metagenome_reverse)\n",
        "nr_pathways_in_metagenome_reverse_plot = plt.bar(nr_pathways_in_metagenome_reverse.index, nr_pathways_in_metagenome_reverse.values, color='orange')\n",
        "plt.xticks(rotation=90, fontsize=6)\n",
        "plt.xlabel(\"Metagenome\")\n",
        "plt.ylabel(\"Number of pathways\")\n",
        "plt.title(\"Number of pathways by metagenomes\")\n",
        "plt.savefig(\"metagenomes_by_pathway_reverse_metagenomelist.png\", dpi=300, bbox_inches='tight')\n",
        "plt.show(nr_pathways_in_metagenome_reverse_plot)"
      ],
      "metadata": {
        "id": "c4c9DREVLQ2y"
      },
      "execution_count": null,
      "outputs": []
    },
    {
      "cell_type": "code",
      "source": [
        "#PLOT 3 - Amount of genes included in metabolical pathways\n",
        "nr_genes_in_pathway = df_dict['organism_pathway_df_combined'].groupby('Pathway')['Gene_GI'].nunique()\n",
        "#normalized version\n",
        "#nr_genes_in_pathway = nr_genes_in_pathway[nr_genes_in_pathway.values < 200]\n",
        "\n",
        "nr_genes_in_pathway_plot = plt.bar(nr_genes_in_pathway.index, nr_genes_in_pathway.values, color='orange')\n",
        "plt.xticks(rotation=90, fontsize=6)\n",
        "plt.xlabel(\"Ruta metabólica\")\n",
        "plt.ylabel(\"Cantidad de genes\")\n",
        "plt.title(\"Cantidad de genes por ruta metabólica\")\n",
        "plt.savefig(\"genes_by_pathway_normalized.png\", dpi=300, bbox_inches='tight')\n",
        "plt.show(nr_genes_in_pathway_plot)\n",
        "\n",
        "#plot 3_colored\n",
        "\n",
        "nr_genes_in_pathway = df_dict['organism_pathway_df_combined'].groupby('Pathway')['Gene_GI'].nunique()\n",
        "\n",
        "# Create map Pathway → Family\n",
        "pathway_family_map = df_dict['organism_pathway_df_combined'].drop_duplicates(subset='Pathway')[['Pathway', 'Family']].set_index('Pathway')['Family']\n",
        "# Make sure indexes match\n",
        "families = pathway_family_map.loc[nr_genes_in_pathway.index]\n",
        "\n",
        "# Assign colors to unique families\n",
        "import seaborn as sns\n",
        "unique_families = families.unique()\n",
        "palette = sns.color_palette(\"colorblind\", n_colors=len(unique_families))\n",
        "color_map = dict(zip(unique_families, palette))\n",
        "bar_colors = families.map(color_map)\n",
        "\n",
        "# Plot\n",
        "plt.figure(figsize=(10, 6))\n",
        "bars = plt.bar(nr_genes_in_pathway.index, nr_genes_in_pathway.values, color=bar_colors)\n",
        "\n",
        "plt.xticks(rotation=90, fontsize=6)\n",
        "plt.xlabel(\"Ruta metabólica\")\n",
        "plt.ylabel(\"Cantidad de genes\")\n",
        "plt.title(\"Cantidad de genes por ruta metabólica\")\n",
        "\n",
        "from matplotlib.patches import Patch\n",
        "legend_handles = [Patch(color=color_map[f], label=f) for f in unique_families]\n",
        "plt.legend(handles=legend_handles, title='Familia')\n",
        "\n",
        "plt.savefig(\"genes_by_pathway_colored.png\", dpi=300, bbox_inches='tight')\n",
        "plt.show(nr_genes_in_pathway_plot)"
      ],
      "metadata": {
        "id": "lABkNeo4Kka3"
      },
      "execution_count": null,
      "outputs": []
    },
    {
      "cell_type": "code",
      "source": [
        "#PLOT metagenome_by_organism\n",
        "#plot 4.X** - Distribution of biosurfactants producing bacteria in metagenomes\n",
        "\n",
        "#cleaned by genera\n",
        "\n",
        "def map_to_sp(org):\n",
        "    first = org.split()[0]\n",
        "    return mapping_dict.get(first, org)\n",
        "\n",
        "nr_metagenomes_by_organism = df_dict['organism_pathway_df_combined'].groupby('Organism')['Reference'].nunique()\n",
        "df_metagenomes = nr_metagenomes_by_organism.reset_index()\n",
        "df_metagenomes.columns = ['Organism', 'Reference_count']\n",
        "df_metagenomes['first_word'] = df_metagenomes['Organism'].str.split().str[0]\n",
        "first_word_counts = df_metagenomes['first_word'].value_counts()\n",
        "mapping_dict = {word: f\"{word} sp.\" for word, count in first_word_counts.items() if count > 1 and word[0].isupper()}\n",
        "\n",
        "df_metagenomes['Organism_mapped'] = df_metagenomes['Organism'].apply(map_to_sp)\n",
        "nr_metagenomes_by_organism_cleaned = df_metagenomes.groupby('Organism_mapped')['Reference_count'].sum()\n",
        "display(nr_metagenomes_by_organism_cleaned)\n",
        "\n",
        "#without normalization\n",
        "plt.figure(figsize=(50, 10))\n",
        "nr_metagenomes_by_organism_cleaned_plot = plt.bar(nr_metagenomes_by_organism_cleaned.index, nr_metagenomes_by_organism_cleaned.values, color='orange')\n",
        "plt.xticks(rotation=90, fontsize=4)\n",
        "plt.xlabel(\"Organismo\")\n",
        "plt.ylabel(\"Cantidad de metagenomas\")\n",
        "plt.title(\"Cantidad de metagenomas por organismo\")\n",
        "plt.savefig(\"metagenomes_by_organism_cleaned.png\", dpi=300, bbox_inches='tight')\n",
        "plt.show(nr_metagenomes_by_organism_cleaned_plot)\n",
        "\n",
        "#normalized\n",
        "\n",
        "nr_metagenomes_by_organism_normalized = nr_metagenomes_by_organism_cleaned[nr_metagenomes_by_organism_cleaned.values > 4]\n",
        "display(nr_metagenomes_by_organism_normalized)\n",
        "\n",
        "plt.figure(figsize=(30, 10))\n",
        "nr_metagenomes_by_organism_normalized_plot = plt.bar(nr_metagenomes_by_organism_normalized.index, nr_metagenomes_by_organism_normalized.values, color='orange')\n",
        "plt.xticks(rotation=90, fontsize=6)\n",
        "plt.xlabel(\"Organismo\")\n",
        "plt.ylabel(\"Cantidad de metagenomas\")\n",
        "plt.title(\"Cantidad de metagenomas por organismo\")\n",
        "plt.savefig(\"metagenomes_by_organism_normalized.png\", dpi=300, bbox_inches='tight')\n",
        "plt.show(nr_metagenomes_by_organism_normalized_plot)\n",
        "#display(nr_metagenomes_by_organism_normalized)\n",
        "\n",
        "\n",
        "\n",
        "#reverse plot\n",
        "\n",
        "nr_metagenomes_by_organism_cleaned_reversed = nr_metagenomes_by_organism_cleaned.groupby('Reference')['Organism'].nunique()\n",
        "\n",
        "nr_metagenomes_by_organism_cleaned_reversed = nr_metagenomes_by_organism_cleaned_reversed[nr_metagenomes_by_organism_cleaned_reversed.values > 3]\n",
        "nr_metagenomes_by_organism_cleaned_reversed = nr_metagenomes_by_organism_cleaned_reversed[nr_metagenomes_by_organism_cleaned_reversed.values < 200]\n",
        "\n",
        "\n",
        "nr_metagenomes_by_organism_cleaned_reversed_plot = plt.bar(nr_metagenomes_by_organism_cleaned_reversed.index, nr_metagenomes_by_organism_cleaned_reversed.values, color='orange')\n",
        "plt.xticks(rotation=90, fontsize=6)\n",
        "plt.xlabel(\"Metagenome\")\n",
        "plt.ylabel(\"Number of organisms\")\n",
        "plt.title(\"Number of organisms by metagenome\")\n",
        "plt.savefig(\"metagenomes_by_organism_cleaned_reversed.png\", dpi=300, bbox_inches='tight')\n",
        "plt.show(nr_metagenomes_by_organism_cleaned_reversed_plot)\n",
        "display(nr_metagenomes_by_organism_cleaned_reversed)"
      ],
      "metadata": {
        "id": "bkJMbPd6KkWX"
      },
      "execution_count": null,
      "outputs": []
    },
    {
      "cell_type": "code",
      "source": [
        "#list of metagenomes comparison\n",
        "\n",
        "metagenomes_list_comparison = pd.merge(nr_pathways_in_metagenome_reverse, nr_metagenomes_by_organism_cleaned_reversed, on='Reference', how='inner')\n",
        "display(metagenomes_list_comparison)"
      ],
      "metadata": {
        "id": "gKlA7if-KkRL"
      },
      "execution_count": null,
      "outputs": []
    },
    {
      "cell_type": "code",
      "source": [
        "#plot Metagenome distribution by environment from TSV file from PROMOTOR\n",
        "\n",
        "df_environments = pd.read_csv(\"metagenomes.tsv\", sep=\"\\t\")\n",
        "\n",
        "nr_metagenomes_by_environments = df_environments.groupby('category')['environment'].nunique()\n",
        "\n",
        "display(nr_metagenomes_by_environments)\n",
        "\n",
        "nr_metagenomes_by_environments_plot = plt.bar(nr_metagenomes_by_environments.index, nr_metagenomes_by_environments.values, color='orange')\n",
        "plt.xticks(rotation=90, fontsize=6)\n",
        "plt.xlabel(\"Medio ambiente\")\n",
        "plt.ylabel(\"Cantidad de metagenomas\")\n",
        "plt.title(\"Cantidad de metagenomas por medio ambiente\")\n",
        "plt.savefig(\"metagenomes_by_environment.png\", dpi=300, bbox_inches='tight')\n",
        "plt.show(nr_metagenomes_by_environments_plot)"
      ],
      "metadata": {
        "id": "MXouEJzsKkCe"
      },
      "execution_count": null,
      "outputs": []
    },
    {
      "cell_type": "code",
      "source": [
        "#plots for species analysis in mgr\n",
        "#PLOT genes_by_organism\n",
        "\n",
        "#cleaned by genera version\n",
        "\n",
        "nr_genes_in_organism = df_dict['organism_pathway_df_combined'].groupby('Organism')['Gene_GI'].nunique()\n",
        "df_genes = nr_genes_in_organism.reset_index()\n",
        "df_genes.columns = ['Organism', 'Gene_count']\n",
        "df_genes['first_word'] = df_genes['Organism'].str.split().str[0]\n",
        "first_word_counts = df_genes['first_word'].value_counts()\n",
        "mapping_dict = {word: f\"{word} sp.\" for word, count in first_word_counts.items() if count > 1 and word[0].isupper()}\n",
        "\n",
        "def map_to_sp(org):\n",
        "    first = org.split()[0]\n",
        "    return mapping_dict.get(first, org)\n",
        "df_genes['Organism_mapped'] = df_genes['Organism'].apply(map_to_sp)\n",
        "nr_genes_in_organism_cleaned = df_genes.groupby('Organism_mapped')['Gene_count'].sum()\n",
        "print(nr_genes_in_organism_cleaned)\n",
        "\n",
        "\n",
        "\n",
        "\n",
        "\n",
        "plt.figure(figsize=(30, 10))\n",
        "nr_genes_in_organism_cleaned_plot = plt.bar(nr_genes_in_organism_cleaned.index, nr_genes_in_organism_cleaned.values, color='orange', width=0.4)\n",
        "plt.xticks(rotation=90, fontsize=2)\n",
        "plt.xlabel(\"Organismo\")\n",
        "plt.ylabel(\"Cantidad de genes\")\n",
        "plt.title(\"Cantidad de genes por organismo\")\n",
        "plt.savefig(\"genes_by_organism_cleaned.png\", dpi=300, bbox_inches='tight')\n",
        "plt.show(nr_genes_in_organism_cleaned_plot)\n",
        "#display(nr_genes_in_organism_cleaned)\n",
        "\n",
        "nr_genes_in_organism_cleaned_normalized = nr_genes_in_organism_cleaned[nr_genes_in_organism_cleaned.values > 10]\n",
        "plt.figure(figsize=(20, 10))\n",
        "nr_genes_in_organism_cleaned_normalized_plot = plt.bar(nr_genes_in_organism_cleaned_normalized.index, nr_genes_in_organism_cleaned_normalized.values, color='orange')\n",
        "plt.xticks(rotation=90, fontsize=6)\n",
        "plt.xlabel(\"Organismo\")\n",
        "plt.ylabel(\"Cantidad de genes\")\n",
        "plt.title(\"Cantidad de genes por organismo\")\n",
        "plt.savefig(\"genes_by_organism_cleaned_normalized.png\", dpi=300, bbox_inches='tight')\n",
        "plt.show(nr_genes_in_organism_cleaned_normalized_plot)\n",
        "display(nr_genes_in_organism_cleaned_normalized)"
      ],
      "metadata": {
        "id": "x88koR-PKjw-"
      },
      "execution_count": null,
      "outputs": []
    },
    {
      "cell_type": "code",
      "source": [
        "#df_environments\n",
        "df_ncbi_choose = pd.read_csv(\"unikalne_wartosci.tsv\", sep=\"\\t\")\n",
        "df_ncbi_choose.columns = ['reference']\n",
        "\n",
        "ncbi_environment_combined = pd.merge(df_ncbi_choose, df_environments, on='reference', how='inner')\n",
        "ncbi_environment_combined = ncbi_environment_combined[['reference', 'category']]\n",
        "display(ncbi_environment_combined)\n",
        "count_ncbi_environment = ncbi_environment_combined.groupby('category')['reference'].nunique()\n",
        "display(count_ncbi_environment)"
      ],
      "metadata": {
        "id": "uoVsSc4KdogT"
      },
      "execution_count": null,
      "outputs": []
    }
  ]
}